{
 "cells": [
  {
   "cell_type": "code",
   "execution_count": 1,
   "id": "3a0f327b",
   "metadata": {},
   "outputs": [],
   "source": [
    "import cv2\n",
    "import numpy as np\n",
    "import os\n",
    "import pickle\n",
    "from tqdm.notebook import tqdm\n",
    "from pathlib import Path"
   ]
  },
  {
   "cell_type": "markdown",
   "id": "5ce9596b",
   "metadata": {},
   "source": [
    "# 1. generate video for goyal dataset"
   ]
  },
  {
   "cell_type": "code",
   "execution_count": 2,
   "id": "c6cd93da",
   "metadata": {},
   "outputs": [],
   "source": [
    "obs_info_dict_path = \"train_data/training_observation_dict_raw.pkl\"\n",
    "test_pos_obs_info_dict_path = \"test_data/testing_positive_observation_dict_raw.pkl\"\n",
    "test_neg_obs_info_dict_path = \"test_data/testing_negative_observation_dict_raw.pkl\""
   ]
  },
  {
   "cell_type": "code",
   "execution_count": 3,
   "id": "662ed9b7",
   "metadata": {},
   "outputs": [],
   "source": [
    "with open(obs_info_dict_path, 'rb') as f:\n",
    "    obs_info_dict = pickle.load(f)\n",
    "with open(test_pos_obs_info_dict_path, 'rb') as f:\n",
    "    obs_info_dict_p = pickle.load(f)\n",
    "with open(test_neg_obs_info_dict_path, 'rb') as f:\n",
    "    obs_info_dict_pp = pickle.load(f)"
   ]
  },
  {
   "cell_type": "code",
   "execution_count": 4,
   "id": "20ee9bbf",
   "metadata": {},
   "outputs": [
    {
     "data": {
      "text/plain": [
       "(0,\n",
       " ['1458/3900.jpeg',\n",
       "  '1458/3901.jpeg',\n",
       "  '1458/3902.jpeg',\n",
       "  '1458/3903.jpeg',\n",
       "  '1458/3904.jpeg',\n",
       "  '1458/3905.jpeg',\n",
       "  '1458/3906.jpeg',\n",
       "  '1458/3907.jpeg',\n",
       "  '1458/3908.jpeg',\n",
       "  '1458/3909.jpeg',\n",
       "  '1458/3910.jpeg',\n",
       "  '1458/3911.jpeg',\n",
       "  '1458/3912.jpeg',\n",
       "  '1458/3913.jpeg',\n",
       "  '1458/3914.jpeg',\n",
       "  '1458/3915.jpeg',\n",
       "  '1458/3916.jpeg',\n",
       "  '1458/3917.jpeg',\n",
       "  '1458/3918.jpeg',\n",
       "  '1458/3919.jpeg',\n",
       "  '1458/3920.jpeg',\n",
       "  '1458/3921.jpeg',\n",
       "  '1458/3922.jpeg',\n",
       "  '1458/3923.jpeg',\n",
       "  '1458/3924.jpeg',\n",
       "  '1458/3925.jpeg',\n",
       "  '1458/3926.jpeg',\n",
       "  '1458/3927.jpeg',\n",
       "  '1458/3928.jpeg',\n",
       "  '1458/3929.jpeg',\n",
       "  '1458/3930.jpeg',\n",
       "  '1458/3931.jpeg',\n",
       "  '1458/3932.jpeg',\n",
       "  '1458/3933.jpeg',\n",
       "  '1458/3934.jpeg',\n",
       "  '1458/3935.jpeg',\n",
       "  '1458/3936.jpeg',\n",
       "  '1458/3937.jpeg',\n",
       "  '1458/3938.jpeg',\n",
       "  '1458/3939.jpeg',\n",
       "  '1458/3940.jpeg',\n",
       "  '1458/3941.jpeg',\n",
       "  '1458/3942.jpeg',\n",
       "  '1458/3943.jpeg',\n",
       "  '1458/3944.jpeg',\n",
       "  '1458/3945.jpeg',\n",
       "  '1458/3946.jpeg',\n",
       "  '1458/3947.jpeg',\n",
       "  '1458/3948.jpeg',\n",
       "  '1458/3949.jpeg',\n",
       "  '1458/3950.jpeg',\n",
       "  '1458/3951.jpeg',\n",
       "  '1458/3952.jpeg',\n",
       "  '1458/3953.jpeg',\n",
       "  '1458/3954.jpeg',\n",
       "  '1458/3955.jpeg',\n",
       "  '1458/3956.jpeg',\n",
       "  '1458/3957.jpeg',\n",
       "  '1458/3958.jpeg',\n",
       "  '1458/3959.jpeg',\n",
       "  '1458/3960.jpeg',\n",
       "  '1458/3961.jpeg',\n",
       "  '1458/3962.jpeg',\n",
       "  '1458/3963.jpeg',\n",
       "  '1458/3964.jpeg',\n",
       "  '1458/3965.jpeg',\n",
       "  '1458/3966.jpeg',\n",
       "  '1458/3967.jpeg',\n",
       "  '1458/3968.jpeg',\n",
       "  '1458/3969.jpeg',\n",
       "  '1458/3970.jpeg',\n",
       "  '1458/3971.jpeg',\n",
       "  '1458/3972.jpeg',\n",
       "  '1458/3973.jpeg',\n",
       "  '1458/3974.jpeg',\n",
       "  '1458/3975.jpeg',\n",
       "  '1458/3976.jpeg',\n",
       "  '1458/3977.jpeg',\n",
       "  '1458/3978.jpeg',\n",
       "  '1458/3979.jpeg',\n",
       "  '1458/3980.jpeg',\n",
       "  '1458/3981.jpeg',\n",
       "  '1458/3982.jpeg',\n",
       "  '1458/3983.jpeg',\n",
       "  '1458/3984.jpeg',\n",
       "  '1458/3985.jpeg',\n",
       "  '1458/3986.jpeg',\n",
       "  '1458/3987.jpeg',\n",
       "  '1458/3988.jpeg',\n",
       "  '1458/3989.jpeg',\n",
       "  '1458/3990.jpeg',\n",
       "  '1458/3991.jpeg',\n",
       "  '1458/3992.jpeg',\n",
       "  '1458/3993.jpeg',\n",
       "  '1458/3994.jpeg',\n",
       "  '1458/3995.jpeg',\n",
       "  '1458/3996.jpeg',\n",
       "  '1458/3997.jpeg',\n",
       "  '1458/3998.jpeg',\n",
       "  '1458/3999.jpeg',\n",
       "  '1458/4000.jpeg',\n",
       "  '1458/4001.jpeg',\n",
       "  '1458/4002.jpeg',\n",
       "  '1458/4003.jpeg',\n",
       "  '1458/4004.jpeg',\n",
       "  '1458/4005.jpeg',\n",
       "  '1458/4006.jpeg',\n",
       "  '1458/4007.jpeg',\n",
       "  '1458/4008.jpeg',\n",
       "  '1458/4009.jpeg',\n",
       "  '1458/4010.jpeg',\n",
       "  '1458/4011.jpeg',\n",
       "  '1458/4012.jpeg',\n",
       "  '1458/4013.jpeg',\n",
       "  '1458/4014.jpeg',\n",
       "  '1458/4015.jpeg',\n",
       "  '1458/4016.jpeg',\n",
       "  '1458/4017.jpeg',\n",
       "  '1458/4018.jpeg',\n",
       "  '1458/4019.jpeg',\n",
       "  '1458/4020.jpeg',\n",
       "  '1458/4021.jpeg',\n",
       "  '1458/4022.jpeg',\n",
       "  '1458/4023.jpeg',\n",
       "  '1458/4024.jpeg',\n",
       "  '1458/4025.jpeg',\n",
       "  '1458/4026.jpeg',\n",
       "  '1458/4027.jpeg',\n",
       "  '1458/4028.jpeg',\n",
       "  '1458/4029.jpeg',\n",
       "  '1458/4030.jpeg',\n",
       "  '1458/4031.jpeg',\n",
       "  '1458/4032.jpeg',\n",
       "  '1458/4033.jpeg',\n",
       "  '1458/4034.jpeg',\n",
       "  '1458/4035.jpeg',\n",
       "  '1458/4036.jpeg',\n",
       "  '1458/4037.jpeg',\n",
       "  '1458/4038.jpeg',\n",
       "  '1458/4039.jpeg',\n",
       "  '1458/4040.jpeg',\n",
       "  '1458/4041.jpeg',\n",
       "  '1458/4042.jpeg',\n",
       "  '1458/4043.jpeg',\n",
       "  '1458/4044.jpeg',\n",
       "  '1458/4045.jpeg',\n",
       "  '1458/4046.jpeg',\n",
       "  '1458/4047.jpeg',\n",
       "  '1458/4048.jpeg',\n",
       "  '1458/4049.jpeg'])"
      ]
     },
     "execution_count": 4,
     "metadata": {},
     "output_type": "execute_result"
    }
   ],
   "source": [
    "list(obs_info_dict.items())[0]"
   ]
  },
  {
   "cell_type": "markdown",
   "id": "4c8206e1",
   "metadata": {},
   "source": [
    "- we have clip_id : list of the frame name e.g., '1458/3900.jpeg',  '1458/3901.jpeg',\n",
    "- so we need to find the folder path for the clip and then convert it to video named by the clip_id "
   ]
  },
  {
   "cell_type": "code",
   "execution_count": 5,
   "id": "df17c400",
   "metadata": {},
   "outputs": [],
   "source": [
    "big_dict = dict()\n",
    "for data_id, framenames in obs_info_dict.items():\n",
    "    big_dict[data_id] = framenames\n",
    "for data_id, framenames in obs_info_dict_p.items():\n",
    "    big_dict[data_id] = framenames\n",
    "for data_id, framenames in obs_info_dict_pp.items():\n",
    "    big_dict[data_id] = framenames\n"
   ]
  },
  {
   "cell_type": "code",
   "execution_count": 6,
   "id": "a213a8e5",
   "metadata": {
    "scrolled": true
   },
   "outputs": [
    {
     "name": "stdout",
     "output_type": "stream",
     "text": [
      "5655\n",
      "608\n",
      "607\n",
      "6870\n"
     ]
    }
   ],
   "source": [
    "print(len(obs_info_dict))\n",
    "print(len(obs_info_dict_p))\n",
    "print(len(obs_info_dict_pp))\n",
    "print(len(big_dict))"
   ]
  },
  {
   "cell_type": "code",
   "execution_count": 7,
   "id": "f8199c0f",
   "metadata": {},
   "outputs": [],
   "source": [
    "# this is for 84 size \n",
    "frame_folder = 'human_replay_screenshot_jpeg'\n",
    "video_save_folder = \"/home/sukai/Extrastorage/Montezuma_Project/video_clip_84\""
   ]
  },
  {
   "cell_type": "code",
   "execution_count": 7,
   "id": "799ae736",
   "metadata": {},
   "outputs": [],
   "source": [
    "# this is for 256 size \n",
    "frame_folder = '/home/sukai/Documents/Sukai_Project/MontezumaRevenge_human/atari_v1/screens/revenge'\n",
    "video_save_folder = \"/home/sukai/Extrastorage/Montezuma_Project/video_clip_5x_target_at_middle_256\""
   ]
  },
  {
   "cell_type": "code",
   "execution_count": 8,
   "id": "c1b5954f",
   "metadata": {},
   "outputs": [],
   "source": [
    "# this is for 84 size \n",
    "def create_video(video_id, framenames_arr, fps, size):\n",
    "    output_path = os.path.join(video_save_folder,  f\"{video_id}.mp4\")\n",
    "    fourcc = cv2.VideoWriter_fourcc(*'mp4v')\n",
    "    writer = cv2.VideoWriter(output_path, fourcc, fps, (size, size))\n",
    "    for framename in framenames_arr:\n",
    "        img_path = os.path.join(frame_folder, framename)\n",
    "        img = cv2.imread(img_path, cv2.IMREAD_COLOR)\n",
    "        writer.write(img)\n",
    "    writer.release()    \n",
    "        "
   ]
  },
  {
   "cell_type": "code",
   "execution_count": 8,
   "id": "7b190b14",
   "metadata": {},
   "outputs": [],
   "source": [
    "# this is for 256 size \n",
    "def create_video(video_id, framenames_arr, fps, size):\n",
    "    output_path = os.path.join(video_save_folder,  f\"{video_id}.mp4\")\n",
    "    fourcc = cv2.VideoWriter_fourcc(*'mp4v')\n",
    "    writer = cv2.VideoWriter(output_path, fourcc, fps, (size, size))\n",
    "    for framename in framenames_arr:\n",
    "        framename = framename.split(\".\")[0] + \".png\"\n",
    "        img_path = os.path.join(frame_folder, framename)\n",
    "        img = cv2.imread(img_path, cv2.IMREAD_COLOR)\n",
    "        img = cv2.resize(img, (size, size))\n",
    "        writer.write(img)\n",
    "    writer.release()    \n",
    "        "
   ]
  },
  {
   "cell_type": "code",
   "execution_count": 20,
   "id": "91489825",
   "metadata": {},
   "outputs": [],
   "source": [
    "def get_next_name(pathname, number):\n",
    "    # '1458/3906.jpeg'\n",
    "    name, ext = pathname.split('.')\n",
    "    foldername, filename = name.split('/')\n",
    "    new_filename = str(int(filename) + number)\n",
    "    newname = foldername+\"/\"+new_filename+\".\"+\"png\"\n",
    "    return newname\n",
    "\n",
    "# this is for 256 size 5x extend and 8 stride size version\n",
    "def create_video(video_id, framenames_arr, fps, size):\n",
    "    real_framenames_arr = []\n",
    "    for i in range(0, len(framenames_arr), 8):\n",
    "        real_framenames_arr.append(framenames_arr[i])\n",
    "        \n",
    "    real_frame_len = len(real_framenames_arr)\n",
    "    # add before \n",
    "    frame_before_arr = []\n",
    "    before_frame = real_framenames_arr[0]\n",
    "    for i in range(real_frame_len * 2):\n",
    "        before_frame = get_next_name(before_frame, -8)\n",
    "        if os.path.exists(frame_folder + '/' + before_frame):\n",
    "            frame_before_arr = [before_frame] + frame_before_arr \n",
    "        else:\n",
    "            break\n",
    "    \n",
    "    # add after \n",
    "    frame_after_arr = []\n",
    "    after_frame = real_framenames_arr[-1]\n",
    "    for i in range(real_frame_len * 2):\n",
    "        after_frame = get_next_name(after_frame, 8)\n",
    "        if os.path.exists(frame_folder + '/'+ after_frame):\n",
    "            frame_after_arr.append(after_frame)\n",
    "        else:\n",
    "            break\n",
    "    \n",
    "    starting_frame_ind = len(frame_before_arr)\n",
    "    ending_frame_ind = len(frame_before_arr) + len(real_framenames_arr)\n",
    "    real_framenames_arr =    frame_before_arr +  real_framenames_arr + frame_after_arr\n",
    "        \n",
    "    output_path = os.path.join(video_save_folder,  f\"{video_id}_si_{starting_frame_ind}_ei_{ending_frame_ind}.mp4\")\n",
    "    fourcc = cv2.VideoWriter_fourcc(*'mp4v')\n",
    "    writer = cv2.VideoWriter(output_path, fourcc, fps, (size, size))\n",
    "    for framename in real_framenames_arr:\n",
    "        framename = framename.split(\".\")[0] + \".png\"\n",
    "        img_path = os.path.join(frame_folder, framename)\n",
    "        img = cv2.imread(img_path, cv2.IMREAD_COLOR)\n",
    "        img = cv2.resize(img, (size, size))\n",
    "        writer.write(img)\n",
    "    writer.release()    "
   ]
  },
  {
   "cell_type": "code",
   "execution_count": 21,
   "id": "72b7d58f",
   "metadata": {},
   "outputs": [
    {
     "data": {
      "application/vnd.jupyter.widget-view+json": {
       "model_id": "83ecc6ff3b204f6d9df7d42d95b00acc",
       "version_major": 2,
       "version_minor": 0
      },
      "text/plain": [
       "  0%|          | 0/6870 [00:00<?, ?it/s]"
      ]
     },
     "metadata": {},
     "output_type": "display_data"
    }
   ],
   "source": [
    "size = 256\n",
    "video_save_folder_path = Path(video_save_folder)\n",
    "video_save_folder_path.mkdir(parents=True, exist_ok=True)\n",
    "for data_id, framenames in tqdm(big_dict.items()):\n",
    "    create_video(data_id, framenames, 6.25, size)"
   ]
  },
  {
   "cell_type": "code",
   "execution_count": null,
   "id": "56ae395a",
   "metadata": {
    "scrolled": false
   },
   "outputs": [],
   "source": [
    "# somehow need to change codec for label studio to work\n",
    "ffmpeg_folder_path = Path(f\"/home/sukai/Extrastorage/Montezuma_Project/video_clip_ffmpeg_{size}\")\n",
    "ffmpeg_folder_path.mkdir(parents=True, exist_ok=True)\n",
    "for data_id, framenames in tqdm(big_dict.items()):\n",
    "    vid_name = os.path.join(video_save_folder, str(data_id)+\".mp4\")\n",
    "    vid_name_output = os.path.join(f\"/home/sukai/Extrastorage/Montezuma_Project/video_clip_ffmpeg_{size}\", str(data_id)+\".mp4\")\n",
    "    os.system(f\"ffmpeg -i {vid_name} -vcodec libx264 {vid_name_output}\")"
   ]
  },
  {
   "cell_type": "markdown",
   "id": "6983d0dc",
   "metadata": {},
   "source": [
    "# 2. generate video for atari human play dataset"
   ]
  },
  {
   "cell_type": "code",
   "execution_count": 14,
   "id": "13708780",
   "metadata": {},
   "outputs": [],
   "source": [
    "import glob"
   ]
  },
  {
   "cell_type": "code",
   "execution_count": 15,
   "id": "032b818d",
   "metadata": {},
   "outputs": [],
   "source": [
    "frame_folder = '/home/sukai/Documents/Sukai_Project/MontezumaRevenge_human/atari_v1/screens/revenge'\n",
    "frame_len = 150\n",
    "video_save_folder = \"/home/sukai/Extrastorage/Montezuma_Project/pretrain_visual_encoder_video_dataset_256\""
   ]
  },
  {
   "cell_type": "code",
   "execution_count": 16,
   "id": "d4cec204",
   "metadata": {},
   "outputs": [],
   "source": [
    "Path(video_save_folder).mkdir(parents=True, exist_ok=True)"
   ]
  },
  {
   "cell_type": "code",
   "execution_count": 17,
   "id": "dd31f277",
   "metadata": {},
   "outputs": [],
   "source": [
    "video_folder_path_arr = glob.glob(frame_folder+\"/*/\")"
   ]
  },
  {
   "cell_type": "code",
   "execution_count": 18,
   "id": "8d66c102",
   "metadata": {},
   "outputs": [
    {
     "data": {
      "application/vnd.jupyter.widget-view+json": {
       "model_id": "1ec7869f9bad4a04934c22ac9ccb03a6",
       "version_major": 2,
       "version_minor": 0
      },
      "text/plain": [
       "  0%|          | 0/652 [00:00<?, ?it/s]"
      ]
     },
     "metadata": {},
     "output_type": "display_data"
    }
   ],
   "source": [
    "size = 256\n",
    "fps=50\n",
    "video_id = 0 \n",
    "for video_folder_path in tqdm(video_folder_path_arr):\n",
    "    start_image_ind = 0\n",
    "    while True:\n",
    "        output_path = os.path.join(video_save_folder,  f\"{video_id}.mp4\")\n",
    "        fourcc = cv2.VideoWriter_fourcc(*'mp4v')\n",
    "        \n",
    "\n",
    "            \n",
    "        img_arr = [] \n",
    "        writer_break_flag = False\n",
    "        for ind in range(frame_len):\n",
    "            # check if image exist \n",
    "            image_ind = start_image_ind + ind\n",
    "            image_path = os.path.join(video_folder_path, f\"{image_ind}.png\")\n",
    "            if os.path.exists(image_path):\n",
    "                img = cv2.imread(image_path, cv2.IMREAD_COLOR)\n",
    "                img = cv2.resize(img, (size, size))\n",
    "                img_arr.append(img)\n",
    "            else:\n",
    "                writer_break_flag = True\n",
    "                break\n",
    "        if writer_break_flag:\n",
    "            # means we do not write video \n",
    "            break \n",
    "        else:\n",
    "            # we write video\n",
    "            start_image_ind = image_ind + 1 # change start image ind \n",
    "            writer = cv2.VideoWriter(output_path, fourcc, fps, (size, size))\n",
    "            for img in img_arr:\n",
    "                writer.write(img)\n",
    "            writer.release() \n",
    "            video_id += 1"
   ]
  },
  {
   "cell_type": "code",
   "execution_count": null,
   "id": "90faef9f",
   "metadata": {},
   "outputs": [],
   "source": []
  }
 ],
 "metadata": {
  "kernelspec": {
   "display_name": "Python 3 (ipykernel)",
   "language": "python",
   "name": "python3"
  },
  "language_info": {
   "codemirror_mode": {
    "name": "ipython",
    "version": 3
   },
   "file_extension": ".py",
   "mimetype": "text/x-python",
   "name": "python",
   "nbconvert_exporter": "python",
   "pygments_lexer": "ipython3",
   "version": "3.8.13"
  }
 },
 "nbformat": 4,
 "nbformat_minor": 5
}
