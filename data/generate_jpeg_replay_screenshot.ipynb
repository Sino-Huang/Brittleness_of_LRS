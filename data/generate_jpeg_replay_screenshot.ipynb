{
 "cells": [
  {
   "cell_type": "markdown",
   "id": "7e7a5367",
   "metadata": {},
   "source": [
    "## Generate jpeg human replay dataset for training visual encoder"
   ]
  },
  {
   "cell_type": "code",
   "execution_count": 1,
   "id": "db699e9b",
   "metadata": {},
   "outputs": [],
   "source": [
    "import glob\n",
    "import io\n",
    "import pickle\n",
    "from pathlib import Path\n",
    "from random import shuffle\n",
    "\n",
    "import cv2\n",
    "from tqdm import tqdm\n",
    "import numpy as np\n",
    "import os\n"
   ]
  },
  {
   "cell_type": "code",
   "execution_count": 2,
   "id": "c1b1a05e",
   "metadata": {},
   "outputs": [],
   "source": [
    "original_replay_folder_path = \"/home/sukai/Downloads/MontezumaRevenge_human/atari_v1/screens/revenge\"\n",
    "RESIZE = 84\n",
    "target_folder_relative_path = \"human_replay_screenshot_jpeg\"\n",
    "\n",
    "def fromfile(file, dtype, count, *args, **kwargs):\n",
    "    \"\"\"Read from any file-like object into a numpy array\n",
    "       im = io.BytesIO(f.read())\n",
    "       m = fromfile(im, dtype=np.uint8, count=im.__sizeof__())\"\"\"\n",
    "\n",
    "    itemsize = np.dtype(dtype).itemsize\n",
    "    buffer = np.zeros(count * itemsize, np.uint8)\n",
    "    bytes_read = -1\n",
    "    offset = 0\n",
    "    while bytes_read != 0:\n",
    "        bytes_read = file.readinto(buffer[offset:])\n",
    "        offset += bytes_read\n",
    "    rounded_bytes = (offset // itemsize) * itemsize\n",
    "    buffer = buffer[:rounded_bytes]\n",
    "    buffer.dtype = dtype\n",
    "    return buffer\n",
    "\n",
    "def get_image_folder_and_name(path):\n",
    "    folder_name, name = path.split('/')[-2:]\n",
    "    name = name.split('.')[0]\n",
    "    return folder_name, name\n",
    "    \n"
   ]
  },
  {
   "cell_type": "code",
   "execution_count": 3,
   "id": "fba81105",
   "metadata": {},
   "outputs": [],
   "source": [
    "imagefilenames = glob.glob(original_replay_folder_path +\"/**/*.png\", recursive=True)"
   ]
  },
  {
   "cell_type": "code",
   "execution_count": 4,
   "id": "651c7565",
   "metadata": {},
   "outputs": [
    {
     "data": {
      "text/plain": [
       "'/home/sukai/Downloads/MontezumaRevenge_human/atari_v1/screens/revenge/931/977.png'"
      ]
     },
     "execution_count": 4,
     "metadata": {},
     "output_type": "execute_result"
    }
   ],
   "source": [
    "imagefilenames[0]"
   ]
  },
  {
   "cell_type": "code",
   "execution_count": 5,
   "id": "5f7ec798",
   "metadata": {
    "scrolled": true
   },
   "outputs": [
    {
     "data": {
      "text/plain": [
       "('931', '977')"
      ]
     },
     "execution_count": 5,
     "metadata": {},
     "output_type": "execute_result"
    }
   ],
   "source": [
    "get_image_folder_and_name(imagefilenames[0])"
   ]
  },
  {
   "cell_type": "code",
   "execution_count": 6,
   "id": "767b4c1e",
   "metadata": {},
   "outputs": [
    {
     "name": "stderr",
     "output_type": "stream",
     "text": [
      "100%|███████████████████████████████| 2361871/2361871 [31:33<00:00, 1247.27it/s]\n"
     ]
    }
   ],
   "source": [
    "for path in tqdm(imagefilenames):\n",
    "    with open(path, 'rb') as f:\n",
    "        im = io.BytesIO(f.read())\n",
    "        im = fromfile(im, dtype=np.uint8, count=im.__sizeof__())\n",
    "        im = cv2.imdecode(im, cv2.IMREAD_COLOR)\n",
    "        # rescale\n",
    "        im = cv2.resize(im, (RESIZE, RESIZE), interpolation = cv2.INTER_AREA)\n",
    "        # dont normalise otherwise the image is not readable\n",
    "        # store as bmp\n",
    "        # transfer clip_id to the right path name 1199/clip_105.mp4\n",
    "        folder_name, name = get_image_folder_and_name(path)\n",
    "        Path(os.path.join(target_folder_relative_path, folder_name)).mkdir(parents=True, exist_ok=True)\n",
    "        \n",
    "        store_pathname = os.path.join(target_folder_relative_path, folder_name, name+\".jpeg\")\n",
    "        # print(\"store at\", store_pathname)\n",
    "        # mkdir\n",
    "        if not cv2.imwrite(store_pathname, im):\n",
    "            raise Exception(\"Could not write image\")"
   ]
  },
  {
   "cell_type": "markdown",
   "id": "7fb3fb31",
   "metadata": {},
   "source": [
    "## Generate GIF for training video diffusion "
   ]
  },
  {
   "cell_type": "code",
   "execution_count": 7,
   "id": "b917d2c4",
   "metadata": {},
   "outputs": [],
   "source": [
    "imagefilefoldernames = glob.glob(original_replay_folder_path +\"/*\", recursive=True)"
   ]
  },
  {
   "cell_type": "code",
   "execution_count": 24,
   "id": "420fa3a9",
   "metadata": {},
   "outputs": [],
   "source": [
    "def sort_image_files(arr, folder_name):\n",
    "    file_dict = dict()\n",
    "    for p in arr:\n",
    "        key = int(p.split('/')[-1].split('.png')[0])\n",
    "        file_dict[key] = p\n",
    "    last_frame_ind = max(list(file_dict.keys()))\n",
    "    if last_frame_ind + 1 != len(file_dict): # include 0 ind\n",
    "        print(\"last frame ind not equivalent to size\")      \n",
    "        print(\"folder is\", folder_name)\n",
    "        \n",
    "    return file_dict, last_frame_ind"
   ]
  },
  {
   "cell_type": "code",
   "execution_count": 32,
   "id": "3fb6b54e",
   "metadata": {},
   "outputs": [],
   "source": [
    "target_gif_folder_relative_path = \"human_replay_screenshot_gif\"\n"
   ]
  },
  {
   "cell_type": "code",
   "execution_count": 31,
   "id": "f03d5f44",
   "metadata": {},
   "outputs": [],
   "source": [
    "import imageio"
   ]
  },
  {
   "cell_type": "code",
   "execution_count": 38,
   "id": "94793375",
   "metadata": {
    "scrolled": true
   },
   "outputs": [
    {
     "name": "stderr",
     "output_type": "stream",
     "text": [
      "100%|███████████████████████████████████████████████████████████████████████████████████| 652/652 [2:17:59<00:00, 12.70s/it]\n"
     ]
    }
   ],
   "source": [
    "# loop over folder \n",
    "cur_output_gif_ind = 0\n",
    "\n",
    "for image_folder in tqdm(imagefilefoldernames):\n",
    "    image_paths = glob.glob(image_folder+ '/*.png', recursive = True)\n",
    "    file_dict, last_frame_ind = sort_image_files(image_paths, image_folder)\n",
    "    for start_ind in range(0, last_frame_ind + 1-150, 150):\n",
    "        frames = [] \n",
    "        for i in range(150):\n",
    "            cur_ind = i + start_ind\n",
    "            image_p = file_dict[cur_ind]\n",
    "            with open(image_p, 'rb') as f:\n",
    "                im = io.BytesIO(f.read())\n",
    "                im = fromfile(im, dtype=np.uint8, count=im.__sizeof__())\n",
    "                im = cv2.imdecode(im, cv2.IMREAD_COLOR)\n",
    "                im = cv2.cvtColor(im, cv2.COLOR_BGR2RGB)\n",
    "                # rescale\n",
    "                im = cv2.resize(im, (RESIZE, RESIZE), interpolation = cv2.INTER_AREA)\n",
    "                frames.append(im)\n",
    "        with imageio.get_writer(os.path.join(target_gif_folder_relative_path,f\"{cur_output_gif_ind}.gif\"), mode=\"I\") as writer:\n",
    "            for idx, frame in enumerate(frames):\n",
    "                writer.append_data(frame)\n",
    "            \n",
    "            cur_output_gif_ind += 1\n",
    "    \n",
    "    for start_ind in range(75, last_frame_ind + 1-150, 150): # overlap and create another gif\n",
    "        frames = [] \n",
    "        for i in range(150):\n",
    "            cur_ind = i + start_ind\n",
    "            image_p = file_dict[cur_ind]\n",
    "            with open(image_p, 'rb') as f:\n",
    "                im = io.BytesIO(f.read())\n",
    "                im = fromfile(im, dtype=np.uint8, count=im.__sizeof__())\n",
    "                im = cv2.imdecode(im, cv2.IMREAD_COLOR)\n",
    "                im = cv2.cvtColor(im, cv2.COLOR_BGR2RGB)\n",
    "                # rescale\n",
    "                im = cv2.resize(im, (RESIZE, RESIZE), interpolation = cv2.INTER_AREA)\n",
    "                frames.append(im)\n",
    "        with imageio.get_writer(os.path.join(target_gif_folder_relative_path,f\"{cur_output_gif_ind}.gif\"), mode=\"I\") as writer:\n",
    "            for idx, frame in enumerate(frames):\n",
    "                writer.append_data(frame)\n",
    "            \n",
    "            cur_output_gif_ind += 1\n",
    "        "
   ]
  },
  {
   "cell_type": "markdown",
   "id": "b8b067d5",
   "metadata": {},
   "source": [
    "## Produce Video MP4 Version"
   ]
  },
  {
   "cell_type": "code",
   "execution_count": 39,
   "id": "2c3f3839",
   "metadata": {},
   "outputs": [],
   "source": [
    "target_video_folder_relative_path = \"human_replay_screenshot_video\""
   ]
  },
  {
   "cell_type": "code",
   "execution_count": 42,
   "id": "49b094ee",
   "metadata": {},
   "outputs": [
    {
     "name": "stderr",
     "output_type": "stream",
     "text": [
      "100%|█████████████████████████████████████████████████████████████████████████████████████| 652/652 [36:17<00:00,  3.34s/it]\n"
     ]
    }
   ],
   "source": [
    "# loop over folder \n",
    "cur_output_gif_ind = 0\n",
    "\n",
    "for image_folder in tqdm(imagefilefoldernames):\n",
    "    image_paths = glob.glob(image_folder+ '/*.png', recursive = True)\n",
    "    file_dict, last_frame_ind = sort_image_files(image_paths, image_folder)\n",
    "    for start_ind in range(0, last_frame_ind + 1-150, 150):\n",
    "        frames = [] \n",
    "        for i in range(150):\n",
    "            cur_ind = i + start_ind\n",
    "            image_p = file_dict[cur_ind]\n",
    "            with open(image_p, 'rb') as f:\n",
    "                im = io.BytesIO(f.read())\n",
    "                im = fromfile(im, dtype=np.uint8, count=im.__sizeof__())\n",
    "                im = cv2.imdecode(im, cv2.IMREAD_COLOR)\n",
    "#                 im = cv2.cvtColor(im, cv2.COLOR_BGR2RGB)\n",
    "                # rescale\n",
    "                im = cv2.resize(im, (RESIZE, RESIZE), interpolation = cv2.INTER_AREA)\n",
    "                frames.append(im)\n",
    "        fourcc = cv2.VideoWriter_fourcc(*'mp4v') \n",
    "        video = cv2.VideoWriter(os.path.join(target_video_folder_relative_path,f\"{cur_output_gif_ind}.mp4\"), fourcc, 60, (RESIZE, RESIZE))\n",
    "        for idx, frame in enumerate(frames):\n",
    "            video.write(frame)\n",
    "        video.release()\n",
    "        cur_output_gif_ind += 1\n",
    "    \n",
    "    for start_ind in range(75, last_frame_ind + 1-150, 150): # overlap and create another gif\n",
    "        frames = [] \n",
    "        for i in range(150):\n",
    "            cur_ind = i + start_ind\n",
    "            image_p = file_dict[cur_ind]\n",
    "            with open(image_p, 'rb') as f:\n",
    "                im = io.BytesIO(f.read())\n",
    "                im = fromfile(im, dtype=np.uint8, count=im.__sizeof__())\n",
    "                im = cv2.imdecode(im, cv2.IMREAD_COLOR)\n",
    "#                 im = cv2.cvtColor(im, cv2.COLOR_BGR2RGB)\n",
    "                # rescale\n",
    "                im = cv2.resize(im, (RESIZE, RESIZE), interpolation = cv2.INTER_AREA)\n",
    "                frames.append(im)\n",
    "        fourcc = cv2.VideoWriter_fourcc(*'mp4v') \n",
    "        video = cv2.VideoWriter(os.path.join(target_video_folder_relative_path,f\"{cur_output_gif_ind}.mp4\"), fourcc, 60, (RESIZE, RESIZE))\n",
    "        for idx, frame in enumerate(frames):\n",
    "            video.write(frame)\n",
    "        video.release()\n",
    "        cur_output_gif_ind += 1\n",
    "        "
   ]
  }
 ],
 "metadata": {
  "kernelspec": {
   "display_name": "Python 3 (ipykernel)",
   "language": "python",
   "name": "python3"
  },
  "language_info": {
   "codemirror_mode": {
    "name": "ipython",
    "version": 3
   },
   "file_extension": ".py",
   "mimetype": "text/x-python",
   "name": "python",
   "nbconvert_exporter": "python",
   "pygments_lexer": "ipython3",
   "version": "3.8.13"
  }
 },
 "nbformat": 4,
 "nbformat_minor": 5
}
