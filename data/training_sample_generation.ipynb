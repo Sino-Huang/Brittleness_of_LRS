{
 "cells": [
  {
   "cell_type": "markdown",
   "id": "54c298c9",
   "metadata": {},
   "source": [
    "# Training Sample generation\n",
    "\n",
    "We are going to generate trajecotry {action, observation} and instruction raw pairs \n",
    "\n",
    "expected output \n",
    "\n",
    "- action_dict = {key=data_no., value=[action]}\n",
    "- observation_dict = {key=data_no., value = [local_img_path]} e.g., 1458/4002.jpeg\n",
    "- instruction_dic = {key=data_no., value = raw_text}\n"
   ]
  },
  {
   "cell_type": "markdown",
   "id": "5125222f",
   "metadata": {},
   "source": [
    "## Prerequisite\n",
    "\n",
    "We need to have the following data\n",
    "\n",
    "- goyal annotation dataset with associated images\n",
    "\n",
    "```\n",
    "└── atari-lang\n",
    "    ├── 1199\n",
    "    ├── 1256\n",
    "    ├── 1289\n",
    "    ├── 1340\n",
    "    ├── 1381\n",
    "    ├── 1383\n",
    "    ├── 1431\n",
    "    ├── 1458\n",
    "    ├── 1473\n",
    "    ├── 249\n",
    "    ├── 275\n",
    "    ├── 281\n",
    "    ├── 283\n",
    "    ├── 300\n",
    "    ├── 324\n",
    "    ├── 546\n",
    "    ├── 559\n",
    "    ├── 563\n",
    "    ├── 658\n",
    "    ├── 958\n",
    "    └── annotations.txt\n",
    "\n",
    "```"
   ]
  },
  {
   "cell_type": "code",
   "execution_count": 1,
   "id": "fb0e4dc7",
   "metadata": {},
   "outputs": [],
   "source": [
    "# import useful package \n",
    "from tqdm import tqdm  # show progress bar\n",
    "import time # time \n",
    "import glob # parse folder \n",
    "import io \n",
    "import pickle\n",
    "import copy\n",
    "from pathlib import Path\n",
    "from random import shuffle\n",
    "from random import sample\n",
    "import random\n",
    "import cv2\n",
    "import numpy as np\n",
    "import pandas as pd\n",
    "import os"
   ]
  },
  {
   "cell_type": "code",
   "execution_count": 2,
   "id": "da203e8b",
   "metadata": {},
   "outputs": [],
   "source": [
    "atari_lang_folder = \"/home/sukai/Downloads/MontezumaRevenge_Goyal/atari-lang\"\n",
    "atari_aciton_folder = \"/home/sukai/Downloads/MontezumaRevenge_human/atari_v1/trajectories/revenge\"\n",
    "is_jpeg_generated = True\n",
    "resize = 84\n",
    "clip_length = 150\n",
    "annotation_file_size = 6870\n",
    "\n",
    "def fromfile(file, dtype, count, *args, **kwargs):\n",
    "    \"\"\"Read from any file-like object into a numpy array\n",
    "       im = io.BytesIO(f.read())\n",
    "       m = fromfile(im, dtype=np.uint8, count=im.__sizeof__())\"\"\"\n",
    "\n",
    "    itemsize = np.dtype(dtype).itemsize\n",
    "    buffer = np.zeros(count * itemsize, np.uint8)\n",
    "    bytes_read = -1\n",
    "    offset = 0\n",
    "    while bytes_read != 0:\n",
    "        bytes_read = file.readinto(buffer[offset:])\n",
    "        offset += bytes_read\n",
    "    rounded_bytes = (offset // itemsize) * itemsize\n",
    "    buffer = buffer[:rounded_bytes]\n",
    "    buffer.dtype = dtype\n",
    "    return buffer"
   ]
  },
  {
   "cell_type": "markdown",
   "id": "bd668cac",
   "metadata": {},
   "source": [
    "## Preprocess \n",
    "we would like to convert png files to jpeg file for Nvidia DALI speed-up  \n",
    "also resize the image"
   ]
  },
  {
   "cell_type": "code",
   "execution_count": 3,
   "id": "a5fa3e20",
   "metadata": {
    "scrolled": true
   },
   "outputs": [
    {
     "name": "stderr",
     "output_type": "stream",
     "text": [
      "100%|█████████████████████████████████| 182896/182896 [02:20<00:00, 1301.57it/s]\n"
     ]
    }
   ],
   "source": [
    "if not is_jpeg_generated:\n",
    "    png_files = glob.glob(atari_lang_folder +\"/**/*.png\", recursive=True)\n",
    "    for path in tqdm(png_files):\n",
    "        with open(path, 'rb') as f:\n",
    "            im = io.BytesIO(f.read())\n",
    "            im = fromfile(im, dtype=np.uint8, count=im.__sizeof__())\n",
    "            im = cv2.imdecode(im, cv2.IMREAD_COLOR)\n",
    "            # rescale\n",
    "            im = cv2.resize(im, (resize, resize), interpolation = cv2.INTER_AREA)\n",
    "            store_pathname = path.split('.')[0] + '.jpeg'\n",
    "            if not cv2.imwrite(store_pathname, im):\n",
    "                raise Exception(\"Could not write image\")"
   ]
  },
  {
   "cell_type": "markdown",
   "id": "799783f3",
   "metadata": {},
   "source": [
    "## parsing the annotation.txt file"
   ]
  },
  {
   "cell_type": "code",
   "execution_count": 48,
   "id": "9a3c9798",
   "metadata": {
    "scrolled": true
   },
   "outputs": [
    {
     "name": "stderr",
     "output_type": "stream",
     "text": [
      "100%|██████████████████████████████████████| 6870/6870 [00:15<00:00, 430.48it/s]\n"
     ]
    }
   ],
   "source": [
    "annotation_file = os.path.join(atari_lang_folder, \"annotations.txt\")\n",
    "instruction_dict = dict()\n",
    "action_dict = dict()\n",
    "observation_dict = dict()\n",
    "\n",
    "count = 0\n",
    "\n",
    "with open(annotation_file, 'rt') as f:\n",
    "    for line in tqdm(f, total=annotation_file_size):\n",
    "        clip_id, text = line.split('.mp4')\n",
    "        text = text.strip().lower()\n",
    "        instruction_dict[count] = text\n",
    "        observation_clips = [] \n",
    "        clip_folder, frame_range = clip_id.split('/')\n",
    "        frame_start = int(frame_range.split('-')[0])\n",
    "        for frame_id in range(frame_start, frame_start + clip_length):\n",
    "            observation_clips.append(os.path.join(clip_folder, str(frame_id)+\".jpeg\"))\n",
    "        \n",
    "        observation_dict[count] = observation_clips\n",
    "#         print(clip_id)\n",
    "#         print(text)\n",
    "#         print(observation_clips)\n",
    "        \n",
    "        # get action dataset \n",
    "        traj_info_path = os.path.join(atari_aciton_folder, clip_folder+'.txt')\n",
    "        traj_df = pd.read_csv(traj_info_path, skiprows=1, )\n",
    "        actions = traj_df[' action'].iloc[frame_start:frame_start + clip_length].tolist()\n",
    "        action_dict[count] = actions\n",
    "        count += 1\n",
    "    "
   ]
  },
  {
   "cell_type": "markdown",
   "id": "8601429d",
   "metadata": {},
   "source": [
    "## split into training and testing data"
   ]
  },
  {
   "cell_type": "code",
   "execution_count": 71,
   "id": "1786ebc5",
   "metadata": {},
   "outputs": [
    {
     "name": "stderr",
     "output_type": "stream",
     "text": [
      "100%|███████████████████████████████████| 1215/1215 [00:00<00:00, 971421.91it/s]\n"
     ]
    }
   ],
   "source": [
    "random.seed(12)\n",
    "\n",
    "testing_data_size = int(len(observation_dict) * 0.177)\n",
    "testing_data_ids = sample(observation_dict.keys(), testing_data_size)\n",
    "\n",
    "testing_positive_instruction_dict = dict()\n",
    "testing_positive_observation_dict = dict()\n",
    "testing_positive_action_dict = dict()\n",
    "\n",
    "for test_id in tqdm(testing_data_ids):\n",
    "    instruction_ele = instruction_dict.pop(test_id)\n",
    "    observation_ele = observation_dict.pop(test_id)\n",
    "    action_ele = action_dict.pop(test_id)\n",
    "    # store the data\n",
    "    testing_positive_instruction_dict[test_id] = instruction_ele\n",
    "    testing_positive_action_dict[test_id] = action_ele\n",
    "    testing_positive_observation_dict[test_id] = observation_ele"
   ]
  },
  {
   "cell_type": "code",
   "execution_count": 78,
   "id": "9f62de72",
   "metadata": {},
   "outputs": [
    {
     "name": "stderr",
     "output_type": "stream",
     "text": [
      "100%|█████████████████████████████████████| 607/607 [00:00<00:00, 917456.77it/s]\n",
      "607it [00:00, 2331449.20it/s]\n"
     ]
    }
   ],
   "source": [
    "# now generate negative testing samples from positive dicts\n",
    "testing_negative_data_size = testing_data_size // 2\n",
    "testing_negative_data_ids = sample(testing_positive_instruction_dict.keys(), testing_negative_data_size)\n",
    "\n",
    "testing_negative_instruction_list = []\n",
    "testing_negative_observation_dict = dict()\n",
    "testing_negative_action_dict = dict()\n",
    "\n",
    "for test_id in tqdm(testing_negative_data_ids):\n",
    "    instruction_ele = testing_positive_instruction_dict.pop(test_id)\n",
    "    observation_ele = testing_positive_observation_dict.pop(test_id)\n",
    "    action_ele = testing_positive_action_dict.pop(test_id)\n",
    "    # store the data\n",
    "    testing_negative_instruction_list.append(instruction_ele)\n",
    "    testing_negative_action_dict[test_id] = action_ele\n",
    "    testing_negative_observation_dict[test_id] = observation_ele\n",
    "# shuffle \n",
    "shuffle(testing_negative_instruction_list)\n",
    "testing_negative_instruction_dict = dict()\n",
    "for i, key in tqdm(enumerate(testing_negative_action_dict.keys())):\n",
    "    testing_negative_instruction_dict[key] = testing_negative_instruction_list[i]"
   ]
  },
  {
   "cell_type": "markdown",
   "id": "bcabb095",
   "metadata": {},
   "source": [
    "## Store the dictionary "
   ]
  },
  {
   "cell_type": "code",
   "execution_count": 80,
   "id": "ab99b47f",
   "metadata": {
    "scrolled": true
   },
   "outputs": [
    {
     "name": "stdout",
     "output_type": "stream",
     "text": [
      "negative testing sample size 607\n",
      "positive testing sample size 608\n",
      "training sample size 5655\n"
     ]
    }
   ],
   "source": [
    "# check size \n",
    "print('negative testing sample size', len(testing_negative_instruction_dict))\n",
    "print('positive testing sample size', len(testing_positive_instruction_dict))\n",
    "print('training sample size', len(instruction_dict))"
   ]
  },
  {
   "cell_type": "code",
   "execution_count": 81,
   "id": "9b58eebe",
   "metadata": {},
   "outputs": [
    {
     "data": {
      "text/plain": [
       "(4103, 'run left and climb up the ladder.')"
      ]
     },
     "execution_count": 81,
     "metadata": {},
     "output_type": "execute_result"
    }
   ],
   "source": [
    "list(testing_negative_instruction_dict.items())[0]"
   ]
  },
  {
   "cell_type": "code",
   "execution_count": 82,
   "id": "e664806d",
   "metadata": {
    "scrolled": true
   },
   "outputs": [
    {
     "data": {
      "text/plain": [
       "(3887, 'move slightly towards right')"
      ]
     },
     "execution_count": 82,
     "metadata": {},
     "output_type": "execute_result"
    }
   ],
   "source": [
    "list(testing_positive_instruction_dict.items())[0]"
   ]
  },
  {
   "cell_type": "code",
   "execution_count": 83,
   "id": "bab20686",
   "metadata": {
    "scrolled": true
   },
   "outputs": [
    {
     "data": {
      "text/plain": [
       "(0, 'climb up the ladder until you reach the top of the purple room')"
      ]
     },
     "execution_count": 83,
     "metadata": {},
     "output_type": "execute_result"
    }
   ],
   "source": [
    "list(instruction_dict.items())[0]"
   ]
  },
  {
   "cell_type": "code",
   "execution_count": 84,
   "id": "c0bf90bd",
   "metadata": {},
   "outputs": [],
   "source": [
    "# store training dataset \n",
    "with open('training_instruction_dict_raw.pkl', 'wb') as f:\n",
    "    pickle.dump(instruction_dict, f)\n",
    "\n",
    "with open('training_action_dict_raw.pkl', 'wb') as f:\n",
    "    pickle.dump(action_dict, f)\n",
    "    \n",
    "with open('training_observation_dict_raw.pkl', 'wb') as f:\n",
    "    pickle.dump(observation_dict, f)"
   ]
  },
  {
   "cell_type": "code",
   "execution_count": 85,
   "id": "052e1c37",
   "metadata": {},
   "outputs": [],
   "source": [
    "# store testing positive dataset \n",
    "with open('test_data/testing_positive_instruction_dict_raw.pkl', 'wb') as f:\n",
    "    pickle.dump(testing_positive_instruction_dict, f)\n",
    "\n",
    "with open('test_data/testing_positive_action_dict_raw.pkl', 'wb') as f:\n",
    "    pickle.dump(testing_positive_action_dict, f)\n",
    "    \n",
    "with open('test_data/testing_positive_observation_dict_raw.pkl', 'wb') as f:\n",
    "    pickle.dump(testing_positive_observation_dict, f)"
   ]
  },
  {
   "cell_type": "code",
   "execution_count": 86,
   "id": "17a10f54",
   "metadata": {},
   "outputs": [],
   "source": [
    "# store testing negative dataset \n",
    "with open('test_data/testing_negative_instruction_dict_raw.pkl', 'wb') as f:\n",
    "    pickle.dump(testing_negative_instruction_dict, f)\n",
    "\n",
    "with open('test_data/testing_negative_action_dict_raw.pkl', 'wb') as f:\n",
    "    pickle.dump(testing_negative_action_dict, f)\n",
    "    \n",
    "with open('test_data/testing_negative_observation_dict_raw.pkl', 'wb') as f:\n",
    "    pickle.dump(testing_negative_observation_dict, f)"
   ]
  }
 ],
 "metadata": {
  "kernelspec": {
   "display_name": "Python 3 (ipykernel)",
   "language": "python",
   "name": "python3"
  },
  "language_info": {
   "codemirror_mode": {
    "name": "ipython",
    "version": 3
   },
   "file_extension": ".py",
   "mimetype": "text/x-python",
   "name": "python",
   "nbconvert_exporter": "python",
   "pygments_lexer": "ipython3",
   "version": "3.8.13"
  }
 },
 "nbformat": 4,
 "nbformat_minor": 5
}
